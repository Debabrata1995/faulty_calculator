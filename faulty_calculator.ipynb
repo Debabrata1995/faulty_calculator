{
 "cells": [
  {
   "cell_type": "code",
   "execution_count": 42,
   "metadata": {},
   "outputs": [
    {
     "name": "stdout",
     "output_type": "stream",
     "text": [
      "16\n"
     ]
    }
   ],
   "source": [
    "a = int(input(\"Enter the first number: \"))\n",
    "b = int(input(\"Enter the second number: \"))\n",
    "operation = input(\"Enter the operation\")\n",
    "if operation==\"*\":\n",
    "\n",
    "    if a==45 and b==3:\n",
    "        print(5)\n",
    "    else:\n",
    "        print(a*b)\n",
    "if operation==\"+\":\n",
    "    if a==56 and b==9:\n",
    "        print(77)\n",
    "    else:\n",
    "        print(a+b)\n",
    "if operation==\"/\":\n",
    "    if a==56 and b==6:\n",
    "        print(4)\n",
    "    else:\n",
    "        print(a/b)\n",
    "if operation==\"-\":\n",
    "    print(a-b)\n",
    "if operation==\"**\":\n",
    "    print(a**b)\n",
    "if operation==\"%\":\n",
    "    print(a%b)\n"
   ]
  }
 ],
 "metadata": {
  "interpreter": {
   "hash": "aee8b7b246df8f9039afb4144a1f6fd8d2ca17a180786b69acc140d282b71a49"
  },
  "kernelspec": {
   "display_name": "Python 3.10.4 64-bit",
   "name": "python3"
  },
  "language_info": {
   "codemirror_mode": {
    "name": "ipython",
    "version": 3
   },
   "file_extension": ".py",
   "mimetype": "text/x-python",
   "name": "python",
   "nbconvert_exporter": "python",
   "pygments_lexer": "ipython3",
   "version": "3.10.4"
  },
  "orig_nbformat": 4
 },
 "nbformat": 4,
 "nbformat_minor": 2
}
